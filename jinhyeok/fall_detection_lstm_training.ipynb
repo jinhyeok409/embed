{
 "cells": [
  {
   "cell_type": "markdown",
   "id": "392f72cf",
   "metadata": {},
   "source": [
    "# 🧠 Fall Detection Model Training (LSTM)\n",
    "시계열 포즈 데이터를 기반으로 낙상 감지 모델을 학습합니다."
   ]
  },
  {
   "cell_type": "code",
   "execution_count": null,
   "id": "3e7825d1",
   "metadata": {},
   "outputs": [],
   "source": [
    "# ✅ 1. 필요 라이브러리 임포트\n",
    "import torch\n",
    "import torch.nn as nn\n",
    "import torch.optim as optim\n",
    "from torch.utils.data import Dataset, DataLoader\n",
    "import os\n",
    "import numpy as np"
   ]
  },
  {
   "cell_type": "code",
   "execution_count": null,
   "id": "12ca0b69",
   "metadata": {},
   "outputs": [],
   "source": [
    "# ✅ 2. 데이터셋 클래스 정의\n",
    "class FallDataset(Dataset):\n",
    "    def __init__(self, root_dir):\n",
    "        self.samples = []\n",
    "        for label_name in ['fall', 'normal']:\n",
    "            label_dir = os.path.join(root_dir, label_name)\n",
    "            label = 1 if label_name == 'fall' else 0\n",
    "            for file in os.listdir(label_dir):\n",
    "                if file.endswith('.npy'):\n",
    "                    self.samples.append((os.path.join(label_dir, file), label))\n",
    "\n",
    "    def __len__(self):\n",
    "        return len(self.samples)\n",
    "\n",
    "    def __getitem__(self, idx):\n",
    "        file_path, label = self.samples[idx]\n",
    "        data = np.load(file_path)\n",
    "        data = torch.tensor(data, dtype=torch.float32)\n",
    "        label = torch.tensor(label, dtype=torch.long)\n",
    "        return data, label"
   ]
  },
  {
   "cell_type": "code",
   "execution_count": null,
   "id": "b60e3a1a",
   "metadata": {},
   "outputs": [],
   "source": [
    "# ✅ 3. LSTM 분류 모델 정의\n",
    "class FallLSTMClassifier(nn.Module):\n",
    "    def __init__(self, input_size=54, hidden_size=128, num_layers=2):\n",
    "        super(FallLSTMClassifier, self).__init__()\n",
    "        self.lstm = nn.LSTM(input_size, hidden_size, num_layers, batch_first=True)\n",
    "        self.fc = nn.Linear(hidden_size, 2)\n",
    "\n",
    "    def forward(self, x):\n",
    "        out, _ = self.lstm(x)\n",
    "        out = out[:, -1, :]\n",
    "        out = self.fc(out)\n",
    "        return out"
   ]
  },
  {
   "cell_type": "code",
   "execution_count": null,
   "id": "6049cd78",
   "metadata": {},
   "outputs": [],
   "source": [
    "# ✅ 4. 학습 루프\n",
    "dataset = FallDataset('dataset')\n",
    "train_loader = DataLoader(dataset, batch_size=16, shuffle=True)\n",
    "\n",
    "model = FallLSTMClassifier()\n",
    "device = torch.device('cuda' if torch.cuda.is_available() else 'cpu')\n",
    "model = model.to(device)\n",
    "\n",
    "criterion = nn.CrossEntropyLoss()\n",
    "optimizer = optim.Adam(model.parameters(), lr=0.001)\n",
    "\n",
    "for epoch in range(20):\n",
    "    model.train()\n",
    "    total_loss, total_acc = 0, 0\n",
    "    for x, y in train_loader:\n",
    "        x, y = x.to(device), y.to(device)\n",
    "\n",
    "        optimizer.zero_grad()\n",
    "        output = model(x)\n",
    "        loss = criterion(output, y)\n",
    "        loss.backward()\n",
    "        optimizer.step()\n",
    "\n",
    "        total_loss += loss.item()\n",
    "        pred = output.argmax(dim=1)\n",
    "        total_acc += (pred == y).sum().item()\n",
    "\n",
    "    acc = total_acc / len(dataset)\n",
    "    print(f\"[Epoch {epoch+1}] Loss: {total_loss:.4f}, Accuracy: {acc*100:.2f}%\")"
   ]
  },
  {
   "cell_type": "code",
   "execution_count": null,
   "id": "2e2fe31e",
   "metadata": {},
   "outputs": [],
   "source": [
    "# ✅ 5. 예측 테스트\n",
    "model.eval()\n",
    "sample, _ = dataset[0]\n",
    "with torch.no_grad():\n",
    "    output = model(sample.unsqueeze(0).to(device))\n",
    "    pred = torch.argmax(output, dim=1)\n",
    "    print('Fall Detected!' if pred.item() == 1 else 'Normal')"
   ]
  }
 ],
 "metadata": {},
 "nbformat": 4,
 "nbformat_minor": 5
}
